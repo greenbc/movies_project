{
 "cells": [
  {
   "cell_type": "markdown",
   "metadata": {},
   "source": [
    "# Project 1: Explanatory Data Analysis & Data Presentation (Movies Dataset)"
   ]
  },
  {
   "cell_type": "markdown",
   "metadata": {},
   "source": [
    "# Project Brief for Self-Coders"
   ]
  },
  {
   "cell_type": "markdown",
   "metadata": {},
   "source": [
    "Here you´ll have the opportunity to code major parts of Project 1 on your own. If you need any help or inspiration, have a look at the Videos or the Jupyter Notebook with the full code. <br> <br>\n",
    "Keep in mind that it´s all about __getting the right results/conclusions__. It´s not about finding the identical code. Things can be coded in many different ways. Even if you come to the same conclusions, it´s very unlikely that we have the very same code. "
   ]
  },
  {
   "cell_type": "markdown",
   "metadata": {},
   "source": [
    "## Data Import and first Inspection"
   ]
  },
  {
   "cell_type": "markdown",
   "metadata": {},
   "source": [
    "1. __Import__ the movies dataset from the CSV file \"movies_complete.csv\". __Inspect__ the data."
   ]
  },
  {
   "cell_type": "markdown",
   "metadata": {},
   "source": [
    "__Some additional information on Features/Columns__:"
   ]
  },
  {
   "cell_type": "markdown",
   "metadata": {},
   "source": [
    "* **id:** The ID of the movie (clear/unique identifier).\n",
    "* **title:** The Official Title of the movie.\n",
    "* **tagline:** The tagline of the movie.\n",
    "* **release_date:** Theatrical Release Date of the movie.\n",
    "* **genres:** Genres associated with the movie.\n",
    "* **belongs_to_collection:** Gives information on the movie series/franchise the particular film belongs to.\n",
    "* **original_language:** The language in which the movie was originally shot in.\n",
    "* **budget_musd:** The budget of the movie in million dollars.\n",
    "* **revenue_musd:** The total revenue of the movie in million dollars.\n",
    "* **production_companies:** Production companies involved with the making of the movie.\n",
    "* **production_countries:** Countries where the movie was shot/produced in.\n",
    "* **vote_count:** The number of votes by users, as counted by TMDB.\n",
    "* **vote_average:** The average rating of the movie.\n",
    "* **popularity:** The Popularity Score assigned by TMDB.\n",
    "* **runtime:** The runtime of the movie in minutes.\n",
    "* **overview:** A brief blurb of the movie.\n",
    "* **spoken_languages:** Spoken languages in the film.\n",
    "* **poster_path:** The URL of the poster image.\n",
    "* **cast:** (Main) Actors appearing in the movie.\n",
    "* **cast_size:** number of Actors appearing in the movie.\n",
    "* **director:** Director of the movie.\n",
    "* **crew_size:** Size of the film crew (incl. director, excl. actors)."
   ]
  },
  {
   "cell_type": "code",
   "execution_count": 2,
   "metadata": {},
   "outputs": [],
   "source": [
    "import pandas as pd\n",
    "import numpy as np\n",
    "import matplotlib.pyplot as plt\n",
    "pd.options.display.max_columns = 30\n",
    "pd.options.display.float_format = '{:.2f}'.format"
   ]
  },
  {
   "cell_type": "code",
   "execution_count": 4,
   "metadata": {},
   "outputs": [
    {
     "data": {
      "text/html": [
       "<div>\n",
       "<style scoped>\n",
       "    .dataframe tbody tr th:only-of-type {\n",
       "        vertical-align: middle;\n",
       "    }\n",
       "\n",
       "    .dataframe tbody tr th {\n",
       "        vertical-align: top;\n",
       "    }\n",
       "\n",
       "    .dataframe thead th {\n",
       "        text-align: right;\n",
       "    }\n",
       "</style>\n",
       "<table border=\"1\" class=\"dataframe\">\n",
       "  <thead>\n",
       "    <tr style=\"text-align: right;\">\n",
       "      <th></th>\n",
       "      <th>id</th>\n",
       "      <th>title</th>\n",
       "      <th>tagline</th>\n",
       "      <th>release_date</th>\n",
       "      <th>genres</th>\n",
       "      <th>belongs_to_collection</th>\n",
       "      <th>original_language</th>\n",
       "      <th>budget_musd</th>\n",
       "      <th>revenue_musd</th>\n",
       "      <th>production_companies</th>\n",
       "      <th>production_countries</th>\n",
       "      <th>vote_count</th>\n",
       "      <th>vote_average</th>\n",
       "      <th>popularity</th>\n",
       "      <th>runtime</th>\n",
       "      <th>overview</th>\n",
       "      <th>spoken_languages</th>\n",
       "      <th>poster_path</th>\n",
       "      <th>cast</th>\n",
       "      <th>cast_size</th>\n",
       "      <th>crew_size</th>\n",
       "      <th>director</th>\n",
       "    </tr>\n",
       "  </thead>\n",
       "  <tbody>\n",
       "    <tr>\n",
       "      <th>0</th>\n",
       "      <td>862</td>\n",
       "      <td>Toy Story</td>\n",
       "      <td>NaN</td>\n",
       "      <td>1995-10-30</td>\n",
       "      <td>Animation|Comedy|Family</td>\n",
       "      <td>Toy Story Collection</td>\n",
       "      <td>en</td>\n",
       "      <td>30.00</td>\n",
       "      <td>373.55</td>\n",
       "      <td>Pixar Animation Studios</td>\n",
       "      <td>United States of America</td>\n",
       "      <td>5415.00</td>\n",
       "      <td>7.70</td>\n",
       "      <td>21.95</td>\n",
       "      <td>81.00</td>\n",
       "      <td>Led by Woody, Andy's toys live happily in his ...</td>\n",
       "      <td>English</td>\n",
       "      <td>&lt;img src='http://image.tmdb.org/t/p/w185//uXDf...</td>\n",
       "      <td>Tom Hanks|Tim Allen|Don Rickles|Jim Varney|Wal...</td>\n",
       "      <td>13</td>\n",
       "      <td>106</td>\n",
       "      <td>John Lasseter</td>\n",
       "    </tr>\n",
       "    <tr>\n",
       "      <th>1</th>\n",
       "      <td>8844</td>\n",
       "      <td>Jumanji</td>\n",
       "      <td>Roll the dice and unleash the excitement!</td>\n",
       "      <td>1995-12-15</td>\n",
       "      <td>Adventure|Fantasy|Family</td>\n",
       "      <td>NaN</td>\n",
       "      <td>en</td>\n",
       "      <td>65.00</td>\n",
       "      <td>262.80</td>\n",
       "      <td>TriStar Pictures|Teitler Film|Interscope Commu...</td>\n",
       "      <td>United States of America</td>\n",
       "      <td>2413.00</td>\n",
       "      <td>6.90</td>\n",
       "      <td>17.02</td>\n",
       "      <td>104.00</td>\n",
       "      <td>When siblings Judy and Peter discover an encha...</td>\n",
       "      <td>English|Français</td>\n",
       "      <td>&lt;img src='http://image.tmdb.org/t/p/w185//vgpX...</td>\n",
       "      <td>Robin Williams|Jonathan Hyde|Kirsten Dunst|Bra...</td>\n",
       "      <td>26</td>\n",
       "      <td>16</td>\n",
       "      <td>Joe Johnston</td>\n",
       "    </tr>\n",
       "    <tr>\n",
       "      <th>2</th>\n",
       "      <td>15602</td>\n",
       "      <td>Grumpier Old Men</td>\n",
       "      <td>Still Yelling. Still Fighting. Still Ready for...</td>\n",
       "      <td>1995-12-22</td>\n",
       "      <td>Romance|Comedy</td>\n",
       "      <td>Grumpy Old Men Collection</td>\n",
       "      <td>en</td>\n",
       "      <td>nan</td>\n",
       "      <td>nan</td>\n",
       "      <td>Warner Bros.|Lancaster Gate</td>\n",
       "      <td>United States of America</td>\n",
       "      <td>92.00</td>\n",
       "      <td>6.50</td>\n",
       "      <td>11.71</td>\n",
       "      <td>101.00</td>\n",
       "      <td>A family wedding reignites the ancient feud be...</td>\n",
       "      <td>English</td>\n",
       "      <td>&lt;img src='http://image.tmdb.org/t/p/w185//1FSX...</td>\n",
       "      <td>Walter Matthau|Jack Lemmon|Ann-Margret|Sophia ...</td>\n",
       "      <td>7</td>\n",
       "      <td>4</td>\n",
       "      <td>Howard Deutch</td>\n",
       "    </tr>\n",
       "    <tr>\n",
       "      <th>3</th>\n",
       "      <td>31357</td>\n",
       "      <td>Waiting to Exhale</td>\n",
       "      <td>Friends are the people who let you be yourself...</td>\n",
       "      <td>1995-12-22</td>\n",
       "      <td>Comedy|Drama|Romance</td>\n",
       "      <td>NaN</td>\n",
       "      <td>en</td>\n",
       "      <td>16.00</td>\n",
       "      <td>81.45</td>\n",
       "      <td>Twentieth Century Fox Film Corporation</td>\n",
       "      <td>United States of America</td>\n",
       "      <td>34.00</td>\n",
       "      <td>6.10</td>\n",
       "      <td>3.86</td>\n",
       "      <td>127.00</td>\n",
       "      <td>Cheated on, mistreated and stepped on, the wom...</td>\n",
       "      <td>English</td>\n",
       "      <td>&lt;img src='http://image.tmdb.org/t/p/w185//4wjG...</td>\n",
       "      <td>Whitney Houston|Angela Bassett|Loretta Devine|...</td>\n",
       "      <td>10</td>\n",
       "      <td>10</td>\n",
       "      <td>Forest Whitaker</td>\n",
       "    </tr>\n",
       "    <tr>\n",
       "      <th>4</th>\n",
       "      <td>11862</td>\n",
       "      <td>Father of the Bride Part II</td>\n",
       "      <td>Just When His World Is Back To Normal... He's ...</td>\n",
       "      <td>1995-02-10</td>\n",
       "      <td>Comedy</td>\n",
       "      <td>Father of the Bride Collection</td>\n",
       "      <td>en</td>\n",
       "      <td>nan</td>\n",
       "      <td>76.58</td>\n",
       "      <td>Sandollar Productions|Touchstone Pictures</td>\n",
       "      <td>United States of America</td>\n",
       "      <td>173.00</td>\n",
       "      <td>5.70</td>\n",
       "      <td>8.39</td>\n",
       "      <td>106.00</td>\n",
       "      <td>Just when George Banks has recovered from his ...</td>\n",
       "      <td>English</td>\n",
       "      <td>&lt;img src='http://image.tmdb.org/t/p/w185//lf9R...</td>\n",
       "      <td>Steve Martin|Diane Keaton|Martin Short|Kimberl...</td>\n",
       "      <td>12</td>\n",
       "      <td>7</td>\n",
       "      <td>Charles Shyer</td>\n",
       "    </tr>\n",
       "  </tbody>\n",
       "</table>\n",
       "</div>"
      ],
      "text/plain": [
       "      id                        title  \\\n",
       "0    862                    Toy Story   \n",
       "1   8844                      Jumanji   \n",
       "2  15602             Grumpier Old Men   \n",
       "3  31357            Waiting to Exhale   \n",
       "4  11862  Father of the Bride Part II   \n",
       "\n",
       "                                             tagline release_date  \\\n",
       "0                                                NaN   1995-10-30   \n",
       "1          Roll the dice and unleash the excitement!   1995-12-15   \n",
       "2  Still Yelling. Still Fighting. Still Ready for...   1995-12-22   \n",
       "3  Friends are the people who let you be yourself...   1995-12-22   \n",
       "4  Just When His World Is Back To Normal... He's ...   1995-02-10   \n",
       "\n",
       "                     genres           belongs_to_collection original_language  \\\n",
       "0   Animation|Comedy|Family            Toy Story Collection                en   \n",
       "1  Adventure|Fantasy|Family                             NaN                en   \n",
       "2            Romance|Comedy       Grumpy Old Men Collection                en   \n",
       "3      Comedy|Drama|Romance                             NaN                en   \n",
       "4                    Comedy  Father of the Bride Collection                en   \n",
       "\n",
       "   budget_musd  revenue_musd  \\\n",
       "0        30.00        373.55   \n",
       "1        65.00        262.80   \n",
       "2          nan           nan   \n",
       "3        16.00         81.45   \n",
       "4          nan         76.58   \n",
       "\n",
       "                                production_companies  \\\n",
       "0                            Pixar Animation Studios   \n",
       "1  TriStar Pictures|Teitler Film|Interscope Commu...   \n",
       "2                        Warner Bros.|Lancaster Gate   \n",
       "3             Twentieth Century Fox Film Corporation   \n",
       "4          Sandollar Productions|Touchstone Pictures   \n",
       "\n",
       "       production_countries  vote_count  vote_average  popularity  runtime  \\\n",
       "0  United States of America     5415.00          7.70       21.95    81.00   \n",
       "1  United States of America     2413.00          6.90       17.02   104.00   \n",
       "2  United States of America       92.00          6.50       11.71   101.00   \n",
       "3  United States of America       34.00          6.10        3.86   127.00   \n",
       "4  United States of America      173.00          5.70        8.39   106.00   \n",
       "\n",
       "                                            overview  spoken_languages  \\\n",
       "0  Led by Woody, Andy's toys live happily in his ...           English   \n",
       "1  When siblings Judy and Peter discover an encha...  English|Français   \n",
       "2  A family wedding reignites the ancient feud be...           English   \n",
       "3  Cheated on, mistreated and stepped on, the wom...           English   \n",
       "4  Just when George Banks has recovered from his ...           English   \n",
       "\n",
       "                                         poster_path  \\\n",
       "0  <img src='http://image.tmdb.org/t/p/w185//uXDf...   \n",
       "1  <img src='http://image.tmdb.org/t/p/w185//vgpX...   \n",
       "2  <img src='http://image.tmdb.org/t/p/w185//1FSX...   \n",
       "3  <img src='http://image.tmdb.org/t/p/w185//4wjG...   \n",
       "4  <img src='http://image.tmdb.org/t/p/w185//lf9R...   \n",
       "\n",
       "                                                cast  cast_size  crew_size  \\\n",
       "0  Tom Hanks|Tim Allen|Don Rickles|Jim Varney|Wal...         13        106   \n",
       "1  Robin Williams|Jonathan Hyde|Kirsten Dunst|Bra...         26         16   \n",
       "2  Walter Matthau|Jack Lemmon|Ann-Margret|Sophia ...          7          4   \n",
       "3  Whitney Houston|Angela Bassett|Loretta Devine|...         10         10   \n",
       "4  Steve Martin|Diane Keaton|Martin Short|Kimberl...         12          7   \n",
       "\n",
       "          director  \n",
       "0    John Lasseter  \n",
       "1     Joe Johnston  \n",
       "2    Howard Deutch  \n",
       "3  Forest Whitaker  \n",
       "4    Charles Shyer  "
      ]
     },
     "execution_count": 4,
     "metadata": {},
     "output_type": "execute_result"
    }
   ],
   "source": [
    "df = pd.read_csv(\"movies_complete.csv\", parse_dates = [\"release_date\"])\n",
    "\n",
    "df.head()"
   ]
  },
  {
   "cell_type": "markdown",
   "metadata": {},
   "source": [
    "## The best and the worst movies..."
   ]
  },
  {
   "cell_type": "markdown",
   "metadata": {},
   "source": [
    "2. __Filter__ the Dataset and __find the best/worst n Movies__ with the"
   ]
  },
  {
   "cell_type": "markdown",
   "metadata": {},
   "source": [
    "- Highest Revenue\n",
    "- Highest Budget\n",
    "- Highest Profit (=Revenue - Budget)\n",
    "- Lowest Profit (=Revenue - Budget)\n",
    "- Highest Return on Investment (=Revenue / Budget) (only movies with Budget >= 10) \n",
    "- Lowest Return on Investment (=Revenue / Budget) (only movies with Budget >= 10)\n",
    "- Highest number of Votes\n",
    "- Highest Rating (only movies with 10 or more Ratings)\n",
    "- Lowest Rating (only movies with 10 or more Ratings)\n",
    "- Highest Popularity"
   ]
  },
  {
   "cell_type": "markdown",
   "metadata": {},
   "source": [
    "__Define__ an appropriate __user-defined function__ to reuse code."
   ]
  },
  {
   "cell_type": "markdown",
   "metadata": {},
   "source": [
    "__Movies Top 5 - Highest Revenue__"
   ]
  },
  {
   "cell_type": "code",
   "execution_count": null,
   "metadata": {},
   "outputs": [],
   "source": []
  },
  {
   "cell_type": "markdown",
   "metadata": {},
   "source": [
    "__Movies Top 5 - Highest Budget__"
   ]
  },
  {
   "cell_type": "code",
   "execution_count": null,
   "metadata": {},
   "outputs": [],
   "source": []
  },
  {
   "cell_type": "markdown",
   "metadata": {},
   "source": [
    "__Movies Top 5 - Highest Profit__"
   ]
  },
  {
   "cell_type": "code",
   "execution_count": null,
   "metadata": {},
   "outputs": [],
   "source": []
  },
  {
   "cell_type": "markdown",
   "metadata": {},
   "source": [
    "__Movies Top 5 - Lowest Profit__"
   ]
  },
  {
   "cell_type": "code",
   "execution_count": null,
   "metadata": {
    "scrolled": false
   },
   "outputs": [],
   "source": []
  },
  {
   "cell_type": "markdown",
   "metadata": {},
   "source": [
    "__Movies Top 5 - Highest ROI__"
   ]
  },
  {
   "cell_type": "code",
   "execution_count": null,
   "metadata": {
    "scrolled": false
   },
   "outputs": [],
   "source": []
  },
  {
   "cell_type": "markdown",
   "metadata": {},
   "source": [
    "__Movies Top 5 - Lowest ROI__"
   ]
  },
  {
   "cell_type": "code",
   "execution_count": null,
   "metadata": {},
   "outputs": [],
   "source": []
  },
  {
   "cell_type": "markdown",
   "metadata": {},
   "source": [
    "__Movies Top 5 - Most Votes__"
   ]
  },
  {
   "cell_type": "code",
   "execution_count": null,
   "metadata": {},
   "outputs": [],
   "source": []
  },
  {
   "cell_type": "markdown",
   "metadata": {},
   "source": [
    "__Movies Top 5 - Highest Rating__"
   ]
  },
  {
   "cell_type": "code",
   "execution_count": null,
   "metadata": {},
   "outputs": [],
   "source": []
  },
  {
   "cell_type": "markdown",
   "metadata": {},
   "source": [
    "__Movies Top 5 - Lowest Rating__"
   ]
  },
  {
   "cell_type": "code",
   "execution_count": null,
   "metadata": {},
   "outputs": [],
   "source": []
  },
  {
   "cell_type": "markdown",
   "metadata": {},
   "source": [
    "__Movies Top 5 - Most Popular__"
   ]
  },
  {
   "cell_type": "code",
   "execution_count": null,
   "metadata": {},
   "outputs": [],
   "source": []
  },
  {
   "cell_type": "markdown",
   "metadata": {},
   "source": [
    "## Find your next Movie"
   ]
  },
  {
   "cell_type": "markdown",
   "metadata": {},
   "source": [
    "3. __Filter__ the Dataset for movies that meet the following conditions:"
   ]
  },
  {
   "cell_type": "markdown",
   "metadata": {},
   "source": [
    "__Search 1: Science Fiction Action Movie with Bruce Willis (sorted from high to low Rating)__"
   ]
  },
  {
   "cell_type": "markdown",
   "metadata": {},
   "source": [
    "__Search 2: Movies with Uma Thurman and directed by Quentin Tarantino (sorted from short to long runtime)__"
   ]
  },
  {
   "cell_type": "markdown",
   "metadata": {},
   "source": [
    "__Search 3: Most Successful Pixar Studio Movies between 2010 and 2015 (sorted from high to low Revenue)__"
   ]
  },
  {
   "cell_type": "markdown",
   "metadata": {},
   "source": [
    "__Search 4: Action or Thriller Movie with original language English and minimum Rating of 7.5 (most recent movies first)__"
   ]
  },
  {
   "cell_type": "code",
   "execution_count": null,
   "metadata": {},
   "outputs": [],
   "source": []
  },
  {
   "cell_type": "markdown",
   "metadata": {},
   "source": [
    "## Are Franchises more successful?"
   ]
  },
  {
   "cell_type": "markdown",
   "metadata": {},
   "source": [
    "4. __Analyze__ the Dataset and __find out whether Franchises (Movies that belong to a collection) are more successful than stand-alone movies__ in terms of:"
   ]
  },
  {
   "cell_type": "markdown",
   "metadata": {},
   "source": [
    "- mean revenue\n",
    "- median Return on Investment\n",
    "- mean budget raised\n",
    "- mean popularity\n",
    "- mean rating"
   ]
  },
  {
   "cell_type": "markdown",
   "metadata": {},
   "source": [
    "hint: use groupby()"
   ]
  },
  {
   "cell_type": "markdown",
   "metadata": {},
   "source": [
    "__Franchise vs. Stand-alone: Average Revenue__"
   ]
  },
  {
   "cell_type": "code",
   "execution_count": null,
   "metadata": {},
   "outputs": [],
   "source": []
  },
  {
   "cell_type": "markdown",
   "metadata": {},
   "source": [
    "__Franchise vs. Stand-alone: Return on Investment / Profitability (median)__"
   ]
  },
  {
   "cell_type": "code",
   "execution_count": null,
   "metadata": {},
   "outputs": [],
   "source": []
  },
  {
   "cell_type": "markdown",
   "metadata": {},
   "source": [
    "__Franchise vs. Stand-alone: Average Budget__"
   ]
  },
  {
   "cell_type": "code",
   "execution_count": null,
   "metadata": {},
   "outputs": [],
   "source": []
  },
  {
   "cell_type": "markdown",
   "metadata": {},
   "source": [
    "__Franchise vs. Stand-alone: Average Popularity__"
   ]
  },
  {
   "cell_type": "code",
   "execution_count": null,
   "metadata": {},
   "outputs": [],
   "source": []
  },
  {
   "cell_type": "markdown",
   "metadata": {},
   "source": [
    "__Franchise vs. Stand-alone: Average Rating__"
   ]
  },
  {
   "cell_type": "code",
   "execution_count": null,
   "metadata": {},
   "outputs": [],
   "source": []
  },
  {
   "cell_type": "markdown",
   "metadata": {},
   "source": [
    "## Most Successful Franchises"
   ]
  },
  {
   "cell_type": "markdown",
   "metadata": {},
   "source": [
    "5. __Find__ the __most successful Franchises__ in terms of"
   ]
  },
  {
   "cell_type": "markdown",
   "metadata": {},
   "source": [
    "- __total number of movies__\n",
    "- __total & mean budget__\n",
    "- __total & mean revenue__\n",
    "- __mean rating__"
   ]
  },
  {
   "cell_type": "code",
   "execution_count": null,
   "metadata": {},
   "outputs": [],
   "source": []
  },
  {
   "cell_type": "markdown",
   "metadata": {},
   "source": [
    "## Most Successful Directors"
   ]
  },
  {
   "cell_type": "markdown",
   "metadata": {},
   "source": [
    "6. __Find__ the __most successful Directors__ in terms of"
   ]
  },
  {
   "cell_type": "markdown",
   "metadata": {},
   "source": [
    "- __total number of movies__\n",
    "- __total revenue__\n",
    "- __mean rating__"
   ]
  },
  {
   "cell_type": "code",
   "execution_count": null,
   "metadata": {},
   "outputs": [],
   "source": []
  }
 ],
 "metadata": {
  "kernelspec": {
   "display_name": "Python 3",
   "language": "python",
   "name": "python3"
  },
  "language_info": {
   "codemirror_mode": {
    "name": "ipython",
    "version": 3
   },
   "file_extension": ".py",
   "mimetype": "text/x-python",
   "name": "python",
   "nbconvert_exporter": "python",
   "pygments_lexer": "ipython3",
   "version": "3.7.1"
  }
 },
 "nbformat": 4,
 "nbformat_minor": 2
}
